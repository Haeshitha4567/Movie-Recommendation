{
  "cells": [
    {
      "cell_type": "markdown",
      "metadata": {
        "id": "view-in-github",
        "colab_type": "text"
      },
      "source": [
        "<a href=\"https://colab.research.google.com/github/Haeshitha4567/Movie-Recommendation/blob/main/movie_recommendation.ipynb\" target=\"_parent\"><img src=\"https://colab.research.google.com/assets/colab-badge.svg\" alt=\"Open In Colab\"/></a>"
      ]
    },
    {
      "cell_type": "code",
      "execution_count": null,
      "metadata": {
        "colab": {
          "base_uri": "https://localhost:8080/",
          "height": 74,
          "resources": {
            "http://localhost:8080/nbextensions/google.colab/files.js": {
              "data": "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",
              "headers": [
                [
                  "content-type",
                  "application/javascript"
                ]
              ],
              "ok": true,
              "status": 200,
              "status_text": ""
            }
          }
        },
        "id": "4uOfwhGY1Rbh",
        "outputId": "066e3663-151b-466e-f769-99c6c4ce555b"
      },
      "outputs": [
        {
          "output_type": "display_data",
          "data": {
            "text/plain": [
              "<IPython.core.display.HTML object>"
            ],
            "text/html": [
              "\n",
              "     <input type=\"file\" id=\"files-b36e5e20-1add-40ec-9630-a1ea5d80c409\" name=\"files[]\" multiple disabled\n",
              "        style=\"border:none\" />\n",
              "     <output id=\"result-b36e5e20-1add-40ec-9630-a1ea5d80c409\">\n",
              "      Upload widget is only available when the cell has been executed in the\n",
              "      current browser session. Please rerun this cell to enable.\n",
              "      </output>\n",
              "      <script src=\"/nbextensions/google.colab/files.js\"></script> "
            ]
          },
          "metadata": {}
        },
        {
          "output_type": "stream",
          "name": "stdout",
          "text": [
            "Saving tmdb_5000_credits.csv to tmdb_5000_credits.csv\n"
          ]
        }
      ],
      "source": [
        "import pandas as pd\n",
        "from google.colab import files\n",
        "uploaded=files.upload()\n"
      ]
    },
    {
      "cell_type": "code",
      "source": [
        "import pandas as pd\n",
        "import io\n",
        "df1=pd.read_csv(io.BytesIO(uploaded['tmdb_5000_credits.csv']))\n",
        "print(df1)"
      ],
      "metadata": {
        "colab": {
          "base_uri": "https://localhost:8080/"
        },
        "id": "VSw3tTwHqCkP",
        "outputId": "8910f51d-2605-4b86-acb6-815f7874146c"
      },
      "execution_count": null,
      "outputs": [
        {
          "output_type": "stream",
          "name": "stdout",
          "text": [
            "      movie_id                                     title  \\\n",
            "0        19995                                    Avatar   \n",
            "1          285  Pirates of the Caribbean: At World's End   \n",
            "2       206647                                   Spectre   \n",
            "3        49026                     The Dark Knight Rises   \n",
            "4        49529                               John Carter   \n",
            "...        ...                                       ...   \n",
            "4798      9367                               El Mariachi   \n",
            "4799     72766                                 Newlyweds   \n",
            "4800    231617                 Signed, Sealed, Delivered   \n",
            "4801    126186                          Shanghai Calling   \n",
            "4802     25975                         My Date with Drew   \n",
            "\n",
            "                                                   cast  \\\n",
            "0     [{\"cast_id\": 242, \"character\": \"Jake Sully\", \"...   \n",
            "1     [{\"cast_id\": 4, \"character\": \"Captain Jack Spa...   \n",
            "2     [{\"cast_id\": 1, \"character\": \"James Bond\", \"cr...   \n",
            "3     [{\"cast_id\": 2, \"character\": \"Bruce Wayne / Ba...   \n",
            "4     [{\"cast_id\": 5, \"character\": \"John Carter\", \"c...   \n",
            "...                                                 ...   \n",
            "4798  [{\"cast_id\": 1, \"character\": \"El Mariachi\", \"c...   \n",
            "4799  [{\"cast_id\": 1, \"character\": \"Buzzy\", \"credit_...   \n",
            "4800  [{\"cast_id\": 8, \"character\": \"Oliver O\\u2019To...   \n",
            "4801  [{\"cast_id\": 3, \"character\": \"Sam\", \"credit_id...   \n",
            "4802  [{\"cast_id\": 3, \"character\": \"Herself\", \"credi...   \n",
            "\n",
            "                                                   crew  \n",
            "0     [{\"credit_id\": \"52fe48009251416c750aca23\", \"de...  \n",
            "1     [{\"credit_id\": \"52fe4232c3a36847f800b579\", \"de...  \n",
            "2     [{\"credit_id\": \"54805967c3a36829b5002c41\", \"de...  \n",
            "3     [{\"credit_id\": \"52fe4781c3a36847f81398c3\", \"de...  \n",
            "4     [{\"credit_id\": \"52fe479ac3a36847f813eaa3\", \"de...  \n",
            "...                                                 ...  \n",
            "4798  [{\"credit_id\": \"52fe44eec3a36847f80b280b\", \"de...  \n",
            "4799  [{\"credit_id\": \"52fe487dc3a368484e0fb013\", \"de...  \n",
            "4800  [{\"credit_id\": \"52fe4df3c3a36847f8275ecf\", \"de...  \n",
            "4801  [{\"credit_id\": \"52fe4ad9c3a368484e16a36b\", \"de...  \n",
            "4802  [{\"credit_id\": \"58ce021b9251415a390165d9\", \"de...  \n",
            "\n",
            "[4803 rows x 4 columns]\n"
          ]
        }
      ]
    },
    {
      "cell_type": "code",
      "source": [
        "from google.colab import files\n",
        "uploaded=files.upload()"
      ],
      "metadata": {
        "colab": {
          "resources": {
            "http://localhost:8080/nbextensions/google.colab/files.js": {
              "data": "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",
              "ok": true,
              "headers": [
                [
                  "content-type",
                  "application/javascript"
                ]
              ],
              "status": 200,
              "status_text": ""
            }
          },
          "base_uri": "https://localhost:8080/",
          "height": 74
        },
        "id": "dW0aM0pxqQ9C",
        "outputId": "bca092d1-acc6-4aa0-e463-402c8ce3f108"
      },
      "execution_count": null,
      "outputs": [
        {
          "output_type": "display_data",
          "data": {
            "text/plain": [
              "<IPython.core.display.HTML object>"
            ],
            "text/html": [
              "\n",
              "     <input type=\"file\" id=\"files-95e3b219-0b02-4b23-9475-c96dde9b9955\" name=\"files[]\" multiple disabled\n",
              "        style=\"border:none\" />\n",
              "     <output id=\"result-95e3b219-0b02-4b23-9475-c96dde9b9955\">\n",
              "      Upload widget is only available when the cell has been executed in the\n",
              "      current browser session. Please rerun this cell to enable.\n",
              "      </output>\n",
              "      <script src=\"/nbextensions/google.colab/files.js\"></script> "
            ]
          },
          "metadata": {}
        },
        {
          "output_type": "stream",
          "name": "stdout",
          "text": [
            "Saving tmdb_5000_movies.csv to tmdb_5000_movies.csv\n"
          ]
        }
      ]
    },
    {
      "cell_type": "code",
      "source": [
        "df2=pd.read_csv(io.BytesIO(uploaded['tmdb_5000_movies.csv']))\n",
        "print(df2)"
      ],
      "metadata": {
        "colab": {
          "base_uri": "https://localhost:8080/"
        },
        "id": "c5XWQutyrTkt",
        "outputId": "1bbbc80d-7cc8-446b-ed02-48843eb43f84"
      },
      "execution_count": null,
      "outputs": [
        {
          "output_type": "stream",
          "name": "stdout",
          "text": [
            "         budget                                             genres  \\\n",
            "0     237000000  [{\"id\": 28, \"name\": \"Action\"}, {\"id\": 12, \"nam...   \n",
            "1     300000000  [{\"id\": 12, \"name\": \"Adventure\"}, {\"id\": 14, \"...   \n",
            "2     245000000  [{\"id\": 28, \"name\": \"Action\"}, {\"id\": 12, \"nam...   \n",
            "3     250000000  [{\"id\": 28, \"name\": \"Action\"}, {\"id\": 80, \"nam...   \n",
            "4     260000000  [{\"id\": 28, \"name\": \"Action\"}, {\"id\": 12, \"nam...   \n",
            "...         ...                                                ...   \n",
            "4798     220000  [{\"id\": 28, \"name\": \"Action\"}, {\"id\": 80, \"nam...   \n",
            "4799       9000  [{\"id\": 35, \"name\": \"Comedy\"}, {\"id\": 10749, \"...   \n",
            "4800          0  [{\"id\": 35, \"name\": \"Comedy\"}, {\"id\": 18, \"nam...   \n",
            "4801          0                                                 []   \n",
            "4802          0                [{\"id\": 99, \"name\": \"Documentary\"}]   \n",
            "\n",
            "                                               homepage      id  \\\n",
            "0                           http://www.avatarmovie.com/   19995   \n",
            "1          http://disney.go.com/disneypictures/pirates/     285   \n",
            "2           http://www.sonypictures.com/movies/spectre/  206647   \n",
            "3                    http://www.thedarkknightrises.com/   49026   \n",
            "4                  http://movies.disney.com/john-carter   49529   \n",
            "...                                                 ...     ...   \n",
            "4798                                                NaN    9367   \n",
            "4799                                                NaN   72766   \n",
            "4800  http://www.hallmarkchannel.com/signedsealeddel...  231617   \n",
            "4801                        http://shanghaicalling.com/  126186   \n",
            "4802                                                NaN   25975   \n",
            "\n",
            "                                               keywords original_language  \\\n",
            "0     [{\"id\": 1463, \"name\": \"culture clash\"}, {\"id\":...                en   \n",
            "1     [{\"id\": 270, \"name\": \"ocean\"}, {\"id\": 726, \"na...                en   \n",
            "2     [{\"id\": 470, \"name\": \"spy\"}, {\"id\": 818, \"name...                en   \n",
            "3     [{\"id\": 849, \"name\": \"dc comics\"}, {\"id\": 853,...                en   \n",
            "4     [{\"id\": 818, \"name\": \"based on novel\"}, {\"id\":...                en   \n",
            "...                                                 ...               ...   \n",
            "4798  [{\"id\": 5616, \"name\": \"united states\\u2013mexi...                es   \n",
            "4799                                                 []                en   \n",
            "4800  [{\"id\": 248, \"name\": \"date\"}, {\"id\": 699, \"nam...                en   \n",
            "4801                                                 []                en   \n",
            "4802  [{\"id\": 1523, \"name\": \"obsession\"}, {\"id\": 224...                en   \n",
            "\n",
            "                                original_title  \\\n",
            "0                                       Avatar   \n",
            "1     Pirates of the Caribbean: At World's End   \n",
            "2                                      Spectre   \n",
            "3                        The Dark Knight Rises   \n",
            "4                                  John Carter   \n",
            "...                                        ...   \n",
            "4798                               El Mariachi   \n",
            "4799                                 Newlyweds   \n",
            "4800                 Signed, Sealed, Delivered   \n",
            "4801                          Shanghai Calling   \n",
            "4802                         My Date with Drew   \n",
            "\n",
            "                                               overview  popularity  \\\n",
            "0     In the 22nd century, a paraplegic Marine is di...  150.437577   \n",
            "1     Captain Barbossa, long believed to be dead, ha...  139.082615   \n",
            "2     A cryptic message from Bond’s past sends him o...  107.376788   \n",
            "3     Following the death of District Attorney Harve...  112.312950   \n",
            "4     John Carter is a war-weary, former military ca...   43.926995   \n",
            "...                                                 ...         ...   \n",
            "4798  El Mariachi just wants to play his guitar and ...   14.269792   \n",
            "4799  A newlywed couple's honeymoon is upended by th...    0.642552   \n",
            "4800  \"Signed, Sealed, Delivered\" introduces a dedic...    1.444476   \n",
            "4801  When ambitious New York attorney Sam is sent t...    0.857008   \n",
            "4802  Ever since the second grade when he first saw ...    1.929883   \n",
            "\n",
            "                                   production_companies  \\\n",
            "0     [{\"name\": \"Ingenious Film Partners\", \"id\": 289...   \n",
            "1     [{\"name\": \"Walt Disney Pictures\", \"id\": 2}, {\"...   \n",
            "2     [{\"name\": \"Columbia Pictures\", \"id\": 5}, {\"nam...   \n",
            "3     [{\"name\": \"Legendary Pictures\", \"id\": 923}, {\"...   \n",
            "4           [{\"name\": \"Walt Disney Pictures\", \"id\": 2}]   \n",
            "...                                                 ...   \n",
            "4798           [{\"name\": \"Columbia Pictures\", \"id\": 5}]   \n",
            "4799                                                 []   \n",
            "4800  [{\"name\": \"Front Street Pictures\", \"id\": 3958}...   \n",
            "4801                                                 []   \n",
            "4802  [{\"name\": \"rusty bear entertainment\", \"id\": 87...   \n",
            "\n",
            "                                   production_countries release_date  \\\n",
            "0     [{\"iso_3166_1\": \"US\", \"name\": \"United States o...   2009-12-10   \n",
            "1     [{\"iso_3166_1\": \"US\", \"name\": \"United States o...   2007-05-19   \n",
            "2     [{\"iso_3166_1\": \"GB\", \"name\": \"United Kingdom\"...   2015-10-26   \n",
            "3     [{\"iso_3166_1\": \"US\", \"name\": \"United States o...   2012-07-16   \n",
            "4     [{\"iso_3166_1\": \"US\", \"name\": \"United States o...   2012-03-07   \n",
            "...                                                 ...          ...   \n",
            "4798  [{\"iso_3166_1\": \"MX\", \"name\": \"Mexico\"}, {\"iso...   1992-09-04   \n",
            "4799                                                 []   2011-12-26   \n",
            "4800  [{\"iso_3166_1\": \"US\", \"name\": \"United States o...   2013-10-13   \n",
            "4801  [{\"iso_3166_1\": \"US\", \"name\": \"United States o...   2012-05-03   \n",
            "4802  [{\"iso_3166_1\": \"US\", \"name\": \"United States o...   2005-08-05   \n",
            "\n",
            "         revenue  runtime                                   spoken_languages  \\\n",
            "0     2787965087    162.0  [{\"iso_639_1\": \"en\", \"name\": \"English\"}, {\"iso...   \n",
            "1      961000000    169.0           [{\"iso_639_1\": \"en\", \"name\": \"English\"}]   \n",
            "2      880674609    148.0  [{\"iso_639_1\": \"fr\", \"name\": \"Fran\\u00e7ais\"},...   \n",
            "3     1084939099    165.0           [{\"iso_639_1\": \"en\", \"name\": \"English\"}]   \n",
            "4      284139100    132.0           [{\"iso_639_1\": \"en\", \"name\": \"English\"}]   \n",
            "...          ...      ...                                                ...   \n",
            "4798     2040920     81.0      [{\"iso_639_1\": \"es\", \"name\": \"Espa\\u00f1ol\"}]   \n",
            "4799           0     85.0                                                 []   \n",
            "4800           0    120.0           [{\"iso_639_1\": \"en\", \"name\": \"English\"}]   \n",
            "4801           0     98.0           [{\"iso_639_1\": \"en\", \"name\": \"English\"}]   \n",
            "4802           0     90.0           [{\"iso_639_1\": \"en\", \"name\": \"English\"}]   \n",
            "\n",
            "        status                                            tagline  \\\n",
            "0     Released                        Enter the World of Pandora.   \n",
            "1     Released     At the end of the world, the adventure begins.   \n",
            "2     Released                              A Plan No One Escapes   \n",
            "3     Released                                    The Legend Ends   \n",
            "4     Released               Lost in our world, found in another.   \n",
            "...        ...                                                ...   \n",
            "4798  Released  He didn't come looking for trouble, but troubl...   \n",
            "4799  Released  A newlywed couple's honeymoon is upended by th...   \n",
            "4800  Released                                                NaN   \n",
            "4801  Released                           A New Yorker in Shanghai   \n",
            "4802  Released                                                NaN   \n",
            "\n",
            "                                         title  vote_average  vote_count  \n",
            "0                                       Avatar           7.2       11800  \n",
            "1     Pirates of the Caribbean: At World's End           6.9        4500  \n",
            "2                                      Spectre           6.3        4466  \n",
            "3                        The Dark Knight Rises           7.6        9106  \n",
            "4                                  John Carter           6.1        2124  \n",
            "...                                        ...           ...         ...  \n",
            "4798                               El Mariachi           6.6         238  \n",
            "4799                                 Newlyweds           5.9           5  \n",
            "4800                 Signed, Sealed, Delivered           7.0           6  \n",
            "4801                          Shanghai Calling           5.7           7  \n",
            "4802                         My Date with Drew           6.3          16  \n",
            "\n",
            "[4803 rows x 20 columns]\n"
          ]
        }
      ]
    },
    {
      "cell_type": "code",
      "source": [
        "final=pd.merge(df1,df2)\n",
        "print(final)"
      ],
      "metadata": {
        "colab": {
          "base_uri": "https://localhost:8080/"
        },
        "id": "qrlL5g42rlHW",
        "outputId": "635da08c-1e66-4d39-b556-36af8df4ca64"
      },
      "execution_count": null,
      "outputs": [
        {
          "output_type": "stream",
          "name": "stdout",
          "text": [
            "      movie_id                                     title  \\\n",
            "0        19995                                    Avatar   \n",
            "1          285  Pirates of the Caribbean: At World's End   \n",
            "2       206647                                   Spectre   \n",
            "3        49026                     The Dark Knight Rises   \n",
            "4        49529                               John Carter   \n",
            "...        ...                                       ...   \n",
            "4804      9367                               El Mariachi   \n",
            "4805     72766                                 Newlyweds   \n",
            "4806    231617                 Signed, Sealed, Delivered   \n",
            "4807    126186                          Shanghai Calling   \n",
            "4808     25975                         My Date with Drew   \n",
            "\n",
            "                                                   cast  \\\n",
            "0     [{\"cast_id\": 242, \"character\": \"Jake Sully\", \"...   \n",
            "1     [{\"cast_id\": 4, \"character\": \"Captain Jack Spa...   \n",
            "2     [{\"cast_id\": 1, \"character\": \"James Bond\", \"cr...   \n",
            "3     [{\"cast_id\": 2, \"character\": \"Bruce Wayne / Ba...   \n",
            "4     [{\"cast_id\": 5, \"character\": \"John Carter\", \"c...   \n",
            "...                                                 ...   \n",
            "4804  [{\"cast_id\": 1, \"character\": \"El Mariachi\", \"c...   \n",
            "4805  [{\"cast_id\": 1, \"character\": \"Buzzy\", \"credit_...   \n",
            "4806  [{\"cast_id\": 8, \"character\": \"Oliver O\\u2019To...   \n",
            "4807  [{\"cast_id\": 3, \"character\": \"Sam\", \"credit_id...   \n",
            "4808  [{\"cast_id\": 3, \"character\": \"Herself\", \"credi...   \n",
            "\n",
            "                                                   crew     budget  \\\n",
            "0     [{\"credit_id\": \"52fe48009251416c750aca23\", \"de...  237000000   \n",
            "1     [{\"credit_id\": \"52fe4232c3a36847f800b579\", \"de...  300000000   \n",
            "2     [{\"credit_id\": \"54805967c3a36829b5002c41\", \"de...  245000000   \n",
            "3     [{\"credit_id\": \"52fe4781c3a36847f81398c3\", \"de...  250000000   \n",
            "4     [{\"credit_id\": \"52fe479ac3a36847f813eaa3\", \"de...  260000000   \n",
            "...                                                 ...        ...   \n",
            "4804  [{\"credit_id\": \"52fe44eec3a36847f80b280b\", \"de...     220000   \n",
            "4805  [{\"credit_id\": \"52fe487dc3a368484e0fb013\", \"de...       9000   \n",
            "4806  [{\"credit_id\": \"52fe4df3c3a36847f8275ecf\", \"de...          0   \n",
            "4807  [{\"credit_id\": \"52fe4ad9c3a368484e16a36b\", \"de...          0   \n",
            "4808  [{\"credit_id\": \"58ce021b9251415a390165d9\", \"de...          0   \n",
            "\n",
            "                                                 genres  \\\n",
            "0     [{\"id\": 28, \"name\": \"Action\"}, {\"id\": 12, \"nam...   \n",
            "1     [{\"id\": 12, \"name\": \"Adventure\"}, {\"id\": 14, \"...   \n",
            "2     [{\"id\": 28, \"name\": \"Action\"}, {\"id\": 12, \"nam...   \n",
            "3     [{\"id\": 28, \"name\": \"Action\"}, {\"id\": 80, \"nam...   \n",
            "4     [{\"id\": 28, \"name\": \"Action\"}, {\"id\": 12, \"nam...   \n",
            "...                                                 ...   \n",
            "4804  [{\"id\": 28, \"name\": \"Action\"}, {\"id\": 80, \"nam...   \n",
            "4805  [{\"id\": 35, \"name\": \"Comedy\"}, {\"id\": 10749, \"...   \n",
            "4806  [{\"id\": 35, \"name\": \"Comedy\"}, {\"id\": 18, \"nam...   \n",
            "4807                                                 []   \n",
            "4808                [{\"id\": 99, \"name\": \"Documentary\"}]   \n",
            "\n",
            "                                               homepage      id  \\\n",
            "0                           http://www.avatarmovie.com/   19995   \n",
            "1          http://disney.go.com/disneypictures/pirates/     285   \n",
            "2           http://www.sonypictures.com/movies/spectre/  206647   \n",
            "3                    http://www.thedarkknightrises.com/   49026   \n",
            "4                  http://movies.disney.com/john-carter   49529   \n",
            "...                                                 ...     ...   \n",
            "4804                                                NaN    9367   \n",
            "4805                                                NaN   72766   \n",
            "4806  http://www.hallmarkchannel.com/signedsealeddel...  231617   \n",
            "4807                        http://shanghaicalling.com/  126186   \n",
            "4808                                                NaN   25975   \n",
            "\n",
            "                                               keywords original_language  \\\n",
            "0     [{\"id\": 1463, \"name\": \"culture clash\"}, {\"id\":...                en   \n",
            "1     [{\"id\": 270, \"name\": \"ocean\"}, {\"id\": 726, \"na...                en   \n",
            "2     [{\"id\": 470, \"name\": \"spy\"}, {\"id\": 818, \"name...                en   \n",
            "3     [{\"id\": 849, \"name\": \"dc comics\"}, {\"id\": 853,...                en   \n",
            "4     [{\"id\": 818, \"name\": \"based on novel\"}, {\"id\":...                en   \n",
            "...                                                 ...               ...   \n",
            "4804  [{\"id\": 5616, \"name\": \"united states\\u2013mexi...                es   \n",
            "4805                                                 []                en   \n",
            "4806  [{\"id\": 248, \"name\": \"date\"}, {\"id\": 699, \"nam...                en   \n",
            "4807                                                 []                en   \n",
            "4808  [{\"id\": 1523, \"name\": \"obsession\"}, {\"id\": 224...                en   \n",
            "\n",
            "      ...                               production_companies  \\\n",
            "0     ...  [{\"name\": \"Ingenious Film Partners\", \"id\": 289...   \n",
            "1     ...  [{\"name\": \"Walt Disney Pictures\", \"id\": 2}, {\"...   \n",
            "2     ...  [{\"name\": \"Columbia Pictures\", \"id\": 5}, {\"nam...   \n",
            "3     ...  [{\"name\": \"Legendary Pictures\", \"id\": 923}, {\"...   \n",
            "4     ...        [{\"name\": \"Walt Disney Pictures\", \"id\": 2}]   \n",
            "...   ...                                                ...   \n",
            "4804  ...           [{\"name\": \"Columbia Pictures\", \"id\": 5}]   \n",
            "4805  ...                                                 []   \n",
            "4806  ...  [{\"name\": \"Front Street Pictures\", \"id\": 3958}...   \n",
            "4807  ...                                                 []   \n",
            "4808  ...  [{\"name\": \"rusty bear entertainment\", \"id\": 87...   \n",
            "\n",
            "                                   production_countries  release_date  \\\n",
            "0     [{\"iso_3166_1\": \"US\", \"name\": \"United States o...    2009-12-10   \n",
            "1     [{\"iso_3166_1\": \"US\", \"name\": \"United States o...    2007-05-19   \n",
            "2     [{\"iso_3166_1\": \"GB\", \"name\": \"United Kingdom\"...    2015-10-26   \n",
            "3     [{\"iso_3166_1\": \"US\", \"name\": \"United States o...    2012-07-16   \n",
            "4     [{\"iso_3166_1\": \"US\", \"name\": \"United States o...    2012-03-07   \n",
            "...                                                 ...           ...   \n",
            "4804  [{\"iso_3166_1\": \"MX\", \"name\": \"Mexico\"}, {\"iso...    1992-09-04   \n",
            "4805                                                 []    2011-12-26   \n",
            "4806  [{\"iso_3166_1\": \"US\", \"name\": \"United States o...    2013-10-13   \n",
            "4807  [{\"iso_3166_1\": \"US\", \"name\": \"United States o...    2012-05-03   \n",
            "4808  [{\"iso_3166_1\": \"US\", \"name\": \"United States o...    2005-08-05   \n",
            "\n",
            "         revenue runtime                                   spoken_languages  \\\n",
            "0     2787965087   162.0  [{\"iso_639_1\": \"en\", \"name\": \"English\"}, {\"iso...   \n",
            "1      961000000   169.0           [{\"iso_639_1\": \"en\", \"name\": \"English\"}]   \n",
            "2      880674609   148.0  [{\"iso_639_1\": \"fr\", \"name\": \"Fran\\u00e7ais\"},...   \n",
            "3     1084939099   165.0           [{\"iso_639_1\": \"en\", \"name\": \"English\"}]   \n",
            "4      284139100   132.0           [{\"iso_639_1\": \"en\", \"name\": \"English\"}]   \n",
            "...          ...     ...                                                ...   \n",
            "4804     2040920    81.0      [{\"iso_639_1\": \"es\", \"name\": \"Espa\\u00f1ol\"}]   \n",
            "4805           0    85.0                                                 []   \n",
            "4806           0   120.0           [{\"iso_639_1\": \"en\", \"name\": \"English\"}]   \n",
            "4807           0    98.0           [{\"iso_639_1\": \"en\", \"name\": \"English\"}]   \n",
            "4808           0    90.0           [{\"iso_639_1\": \"en\", \"name\": \"English\"}]   \n",
            "\n",
            "        status                                            tagline  \\\n",
            "0     Released                        Enter the World of Pandora.   \n",
            "1     Released     At the end of the world, the adventure begins.   \n",
            "2     Released                              A Plan No One Escapes   \n",
            "3     Released                                    The Legend Ends   \n",
            "4     Released               Lost in our world, found in another.   \n",
            "...        ...                                                ...   \n",
            "4804  Released  He didn't come looking for trouble, but troubl...   \n",
            "4805  Released  A newlywed couple's honeymoon is upended by th...   \n",
            "4806  Released                                                NaN   \n",
            "4807  Released                           A New Yorker in Shanghai   \n",
            "4808  Released                                                NaN   \n",
            "\n",
            "     vote_average vote_count  \n",
            "0             7.2      11800  \n",
            "1             6.9       4500  \n",
            "2             6.3       4466  \n",
            "3             7.6       9106  \n",
            "4             6.1       2124  \n",
            "...           ...        ...  \n",
            "4804          6.6        238  \n",
            "4805          5.9          5  \n",
            "4806          7.0          6  \n",
            "4807          5.7          7  \n",
            "4808          6.3         16  \n",
            "\n",
            "[4809 rows x 23 columns]\n"
          ]
        }
      ]
    },
    {
      "cell_type": "code",
      "source": [
        "final=final[[\"overview\",\"original_title\",\"id\",\"genres\",\"original_language\"]]"
      ],
      "metadata": {
        "id": "YBgggiy5r9on"
      },
      "execution_count": null,
      "outputs": []
    },
    {
      "cell_type": "code",
      "source": [
        "final.isnull().sum()"
      ],
      "metadata": {
        "colab": {
          "base_uri": "https://localhost:8080/"
        },
        "id": "N2nMMbWosEVd",
        "outputId": "e052ba83-72d1-4c7b-ecd3-86d9150a2762"
      },
      "execution_count": null,
      "outputs": [
        {
          "output_type": "execute_result",
          "data": {
            "text/plain": [
              "overview             3\n",
              "original_title       0\n",
              "id                   0\n",
              "genres               0\n",
              "original_language    0\n",
              "dtype: int64"
            ]
          },
          "metadata": {},
          "execution_count": 11
        }
      ]
    },
    {
      "cell_type": "code",
      "source": [
        "final.dropna(inplace=True)"
      ],
      "metadata": {
        "id": "PA7izbNwsJh8"
      },
      "execution_count": null,
      "outputs": []
    },
    {
      "cell_type": "code",
      "source": [
        "final.duplicated().value_counts()"
      ],
      "metadata": {
        "colab": {
          "base_uri": "https://localhost:8080/"
        },
        "id": "-ypYD7PFsTcX",
        "outputId": "8f6c077e-7032-4688-e0f5-dbd96888ddb0"
      },
      "execution_count": null,
      "outputs": [
        {
          "output_type": "execute_result",
          "data": {
            "text/plain": [
              "False    4800\n",
              "True        6\n",
              "dtype: int64"
            ]
          },
          "metadata": {},
          "execution_count": 13
        }
      ]
    },
    {
      "cell_type": "code",
      "source": [
        "final=final.drop_duplicates(keep=\"first\",inplace=False)"
      ],
      "metadata": {
        "id": "YbvZJKUAsdfk"
      },
      "execution_count": null,
      "outputs": []
    },
    {
      "cell_type": "code",
      "source": [
        "from sklearn.feature_extraction.text import TfidfVectorizer"
      ],
      "metadata": {
        "id": "5NMW8_BIsibn"
      },
      "execution_count": null,
      "outputs": []
    },
    {
      "cell_type": "code",
      "source": [
        "tfv=TfidfVectorizer(min_df=3,max_features =None, strip_accents= \"unicode\",analyzer='word',token_pattern=r'\\w{1,}',\n",
        "                    ngram_range=(1,3),stop_words='english')"
      ],
      "metadata": {
        "id": "4kRuFdIbsnGp"
      },
      "execution_count": null,
      "outputs": []
    },
    {
      "cell_type": "code",
      "source": [
        "tfv_matrix=tfv.fit_transform(final[\"overview\"])"
      ],
      "metadata": {
        "id": "XO-dXvyYsq-D"
      },
      "execution_count": null,
      "outputs": []
    },
    {
      "cell_type": "code",
      "source": [
        "tfv_matrix.shape"
      ],
      "metadata": {
        "colab": {
          "base_uri": "https://localhost:8080/"
        },
        "id": "R8N5NEp7surv",
        "outputId": "c6f5676f-99fc-4b07-d003-81b3dac04584"
      },
      "execution_count": null,
      "outputs": [
        {
          "output_type": "execute_result",
          "data": {
            "text/plain": [
              "(4800, 10417)"
            ]
          },
          "metadata": {},
          "execution_count": 18
        }
      ]
    },
    {
      "cell_type": "code",
      "source": [
        "from sklearn.metrics.pairwise import sigmoid_kernel\n",
        "sig=sigmoid_kernel(tfv_matrix,tfv_matrix)\n",
        "sig"
      ],
      "metadata": {
        "colab": {
          "base_uri": "https://localhost:8080/"
        },
        "id": "_P0aGV9qszr3",
        "outputId": "41913511-66cd-429d-df29-ad7781869e1e"
      },
      "execution_count": null,
      "outputs": [
        {
          "output_type": "execute_result",
          "data": {
            "text/plain": [
              "array([[0.76163447, 0.76159416, 0.76159416, ..., 0.76159416, 0.76159416,\n",
              "        0.76159416],\n",
              "       [0.76159416, 0.76163447, 0.76159416, ..., 0.76159513, 0.76159416,\n",
              "        0.76159416],\n",
              "       [0.76159416, 0.76159416, 0.76163447, ..., 0.76159486, 0.76159416,\n",
              "        0.76159455],\n",
              "       ...,\n",
              "       [0.76159416, 0.76159513, 0.76159486, ..., 0.76163447, 0.76159483,\n",
              "        0.76159473],\n",
              "       [0.76159416, 0.76159416, 0.76159416, ..., 0.76159483, 0.76163447,\n",
              "        0.76159461],\n",
              "       [0.76159416, 0.76159416, 0.76159455, ..., 0.76159473, 0.76159461,\n",
              "        0.76163447]])"
            ]
          },
          "metadata": {},
          "execution_count": 19
        }
      ]
    },
    {
      "cell_type": "code",
      "source": [
        "index1=pd.Series(final.index,index=final[\"original_title\"]).drop_duplicates()\n",
        "index1"
      ],
      "metadata": {
        "colab": {
          "base_uri": "https://localhost:8080/"
        },
        "id": "dYpqma0xs7FQ",
        "outputId": "1c5b6f6d-0d04-43f1-c8ea-3857d655e11a"
      },
      "execution_count": null,
      "outputs": [
        {
          "output_type": "execute_result",
          "data": {
            "text/plain": [
              "original_title\n",
              "Avatar                                         0\n",
              "Pirates of the Caribbean: At World's End       1\n",
              "Spectre                                        2\n",
              "The Dark Knight Rises                          3\n",
              "John Carter                                    4\n",
              "                                            ... \n",
              "El Mariachi                                 4804\n",
              "Newlyweds                                   4805\n",
              "Signed, Sealed, Delivered                   4806\n",
              "Shanghai Calling                            4807\n",
              "My Date with Drew                           4808\n",
              "Length: 4800, dtype: int64"
            ]
          },
          "metadata": {},
          "execution_count": 20
        }
      ]
    },
    {
      "cell_type": "code",
      "source": [
        "def give_recommendation(title,sig=sig):\n",
        "    idx=index1[title]\n",
        "    sigmoid_score= list(enumerate(sig[idx]))\n",
        "    sigmoid_score=sorted(sigmoid_score, key=lambda x:x[1],reverse=True)\n",
        "    sigmoid_score=sigmoid_score[1:6]\n",
        "    movie_indices=[i[0] for i in sigmoid_score]\n",
        "    return final[\"original_title\"].iloc[movie_indices]"
      ],
      "metadata": {
        "id": "8B2IAPO6tCYJ"
      },
      "execution_count": null,
      "outputs": []
    },
    {
      "cell_type": "code",
      "source": [
        "give_recommendation(\"Spectre\")"
      ],
      "metadata": {
        "id": "H4vRJzudtIMH",
        "outputId": "9c46019f-22c9-40b7-81ec-6f43fa72fe25",
        "colab": {
          "base_uri": "https://localhost:8080/"
        }
      },
      "execution_count": null,
      "outputs": [
        {
          "output_type": "execute_result",
          "data": {
            "text/plain": [
              "1346    Never Say Never Again\n",
              "29                    Skyfall\n",
              "3167              Thunderball\n",
              "4078    From Russia with Love\n",
              "11          Quantum of Solace\n",
              "Name: original_title, dtype: object"
            ]
          },
          "metadata": {},
          "execution_count": 22
        }
      ]
    }
  ],
  "metadata": {
    "colab": {
      "name": "movie recommendation.ipynb",
      "provenance": [],
      "collapsed_sections": [],
      "authorship_tag": "ABX9TyNej1r8PzYxLZs9eriCVlMz",
      "include_colab_link": true
    },
    "kernelspec": {
      "display_name": "Python 3",
      "name": "python3"
    },
    "language_info": {
      "name": "python"
    }
  },
  "nbformat": 4,
  "nbformat_minor": 0
}